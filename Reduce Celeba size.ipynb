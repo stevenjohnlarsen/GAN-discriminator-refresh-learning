{
 "cells": [
  {
   "cell_type": "code",
   "execution_count": 2,
   "id": "8d1e8337",
   "metadata": {},
   "outputs": [],
   "source": [
    "original_path = \"./data/celeba/img_align_celeba/\"\n",
    "new_path = \"data/celeba_small/img_align_celeba/\"\n",
    "newer_path = \"data/celeba_smaller/img_align_celeba/\""
   ]
  },
  {
   "cell_type": "code",
   "execution_count": 3,
   "id": "dce736aa",
   "metadata": {},
   "outputs": [],
   "source": [
    "import shutil, os\n",
    "import random\n",
    "import pandas as pd\n",
    "import numpy as np"
   ]
  },
  {
   "cell_type": "code",
   "execution_count": 4,
   "id": "69671af8",
   "metadata": {},
   "outputs": [
    {
     "data": {
      "text/plain": [
       "3"
      ]
     },
     "execution_count": 4,
     "metadata": {},
     "output_type": "execute_result"
    }
   ],
   "source": [
    "random.choice([0,1,2,3])"
   ]
  },
  {
   "cell_type": "code",
   "execution_count": 5,
   "id": "6525515b",
   "metadata": {},
   "outputs": [],
   "source": [
    "import glob"
   ]
  },
  {
   "cell_type": "code",
   "execution_count": 5,
   "id": "8ece628b",
   "metadata": {},
   "outputs": [],
   "source": [
    "files = glob.glob(\"./data/celeba/img_align_celeba/*.jpg\")"
   ]
  },
  {
   "cell_type": "code",
   "execution_count": 6,
   "id": "121b6324",
   "metadata": {},
   "outputs": [
    {
     "data": {
      "text/plain": [
       "50983"
      ]
     },
     "execution_count": 6,
     "metadata": {},
     "output_type": "execute_result"
    }
   ],
   "source": [
    "less_files = []\n",
    "for file in files:\n",
    "    if random.choice([0,1,2,3]) == 0:\n",
    "        less_files.append(file)\n",
    "len(less_files)"
   ]
  },
  {
   "cell_type": "code",
   "execution_count": 8,
   "id": "2846e470",
   "metadata": {},
   "outputs": [],
   "source": [
    "for file in less_files:\n",
    "    shutil.copy(file, new_path)"
   ]
  },
  {
   "cell_type": "markdown",
   "id": "2e5f2547",
   "metadata": {},
   "source": [
    "_______________"
   ]
  },
  {
   "cell_type": "code",
   "execution_count": 9,
   "id": "8aaf73bb",
   "metadata": {},
   "outputs": [
    {
     "data": {
      "text/plain": [
       "25337"
      ]
     },
     "execution_count": 9,
     "metadata": {},
     "output_type": "execute_result"
    }
   ],
   "source": [
    "less_files = []\n",
    "for file in files:\n",
    "    if random.choice([0,1,2,3,4,5,6,7]) == 0:\n",
    "        less_files.append(file)\n",
    "len(less_files)"
   ]
  },
  {
   "cell_type": "code",
   "execution_count": 10,
   "id": "c1059f51",
   "metadata": {},
   "outputs": [],
   "source": [
    "for file in less_files:\n",
    "    shutil.copy(file, newer_path)"
   ]
  },
  {
   "cell_type": "markdown",
   "id": "10e06e79",
   "metadata": {},
   "source": [
    "# Create csv's for small and smaller"
   ]
  },
  {
   "cell_type": "code",
   "execution_count": 50,
   "id": "b56bded8",
   "metadata": {},
   "outputs": [
    {
     "data": {
      "text/html": [
       "<div>\n",
       "<style scoped>\n",
       "    .dataframe tbody tr th:only-of-type {\n",
       "        vertical-align: middle;\n",
       "    }\n",
       "\n",
       "    .dataframe tbody tr th {\n",
       "        vertical-align: top;\n",
       "    }\n",
       "\n",
       "    .dataframe thead th {\n",
       "        text-align: right;\n",
       "    }\n",
       "</style>\n",
       "<table border=\"1\" class=\"dataframe\">\n",
       "  <thead>\n",
       "    <tr style=\"text-align: right;\">\n",
       "      <th></th>\n",
       "      <th>img_name</th>\n",
       "      <th>Attractive_only</th>\n",
       "      <th>Mouth_Slightly_Open_only</th>\n",
       "      <th>Smiling_only</th>\n",
       "      <th>Attractive_Mouth_Slightly_Open</th>\n",
       "      <th>Attractive_Smiling</th>\n",
       "      <th>Mouth_Slightly_Open_Smiling</th>\n",
       "      <th>Attractive_Mouth_Slightly_Open_Smiling</th>\n",
       "      <th>None</th>\n",
       "    </tr>\n",
       "  </thead>\n",
       "  <tbody>\n",
       "    <tr>\n",
       "      <th>0</th>\n",
       "      <td>000001.jpg</td>\n",
       "      <td>0</td>\n",
       "      <td>0</td>\n",
       "      <td>0</td>\n",
       "      <td>0</td>\n",
       "      <td>0</td>\n",
       "      <td>0</td>\n",
       "      <td>1</td>\n",
       "      <td>0</td>\n",
       "    </tr>\n",
       "    <tr>\n",
       "      <th>1</th>\n",
       "      <td>000002.jpg</td>\n",
       "      <td>0</td>\n",
       "      <td>0</td>\n",
       "      <td>0</td>\n",
       "      <td>0</td>\n",
       "      <td>0</td>\n",
       "      <td>1</td>\n",
       "      <td>0</td>\n",
       "      <td>0</td>\n",
       "    </tr>\n",
       "    <tr>\n",
       "      <th>2</th>\n",
       "      <td>000003.jpg</td>\n",
       "      <td>0</td>\n",
       "      <td>0</td>\n",
       "      <td>0</td>\n",
       "      <td>0</td>\n",
       "      <td>0</td>\n",
       "      <td>0</td>\n",
       "      <td>0</td>\n",
       "      <td>1</td>\n",
       "    </tr>\n",
       "    <tr>\n",
       "      <th>3</th>\n",
       "      <td>000004.jpg</td>\n",
       "      <td>1</td>\n",
       "      <td>0</td>\n",
       "      <td>0</td>\n",
       "      <td>0</td>\n",
       "      <td>0</td>\n",
       "      <td>0</td>\n",
       "      <td>0</td>\n",
       "      <td>0</td>\n",
       "    </tr>\n",
       "    <tr>\n",
       "      <th>4</th>\n",
       "      <td>000005.jpg</td>\n",
       "      <td>1</td>\n",
       "      <td>0</td>\n",
       "      <td>0</td>\n",
       "      <td>0</td>\n",
       "      <td>0</td>\n",
       "      <td>0</td>\n",
       "      <td>0</td>\n",
       "      <td>0</td>\n",
       "    </tr>\n",
       "    <tr>\n",
       "      <th>...</th>\n",
       "      <td>...</td>\n",
       "      <td>...</td>\n",
       "      <td>...</td>\n",
       "      <td>...</td>\n",
       "      <td>...</td>\n",
       "      <td>...</td>\n",
       "      <td>...</td>\n",
       "      <td>...</td>\n",
       "      <td>...</td>\n",
       "    </tr>\n",
       "    <tr>\n",
       "      <th>202594</th>\n",
       "      <td>202595.jpg</td>\n",
       "      <td>1</td>\n",
       "      <td>0</td>\n",
       "      <td>0</td>\n",
       "      <td>0</td>\n",
       "      <td>0</td>\n",
       "      <td>0</td>\n",
       "      <td>0</td>\n",
       "      <td>0</td>\n",
       "    </tr>\n",
       "    <tr>\n",
       "      <th>202595</th>\n",
       "      <td>202596.jpg</td>\n",
       "      <td>0</td>\n",
       "      <td>0</td>\n",
       "      <td>0</td>\n",
       "      <td>0</td>\n",
       "      <td>0</td>\n",
       "      <td>1</td>\n",
       "      <td>0</td>\n",
       "      <td>0</td>\n",
       "    </tr>\n",
       "    <tr>\n",
       "      <th>202596</th>\n",
       "      <td>202597.jpg</td>\n",
       "      <td>0</td>\n",
       "      <td>0</td>\n",
       "      <td>0</td>\n",
       "      <td>0</td>\n",
       "      <td>0</td>\n",
       "      <td>1</td>\n",
       "      <td>0</td>\n",
       "      <td>0</td>\n",
       "    </tr>\n",
       "    <tr>\n",
       "      <th>202597</th>\n",
       "      <td>202598.jpg</td>\n",
       "      <td>0</td>\n",
       "      <td>0</td>\n",
       "      <td>0</td>\n",
       "      <td>0</td>\n",
       "      <td>1</td>\n",
       "      <td>0</td>\n",
       "      <td>0</td>\n",
       "      <td>0</td>\n",
       "    </tr>\n",
       "    <tr>\n",
       "      <th>202598</th>\n",
       "      <td>202599.jpg</td>\n",
       "      <td>1</td>\n",
       "      <td>0</td>\n",
       "      <td>0</td>\n",
       "      <td>0</td>\n",
       "      <td>0</td>\n",
       "      <td>0</td>\n",
       "      <td>0</td>\n",
       "      <td>0</td>\n",
       "    </tr>\n",
       "  </tbody>\n",
       "</table>\n",
       "<p>202599 rows × 9 columns</p>\n",
       "</div>"
      ],
      "text/plain": [
       "          img_name  Attractive_only  Mouth_Slightly_Open_only  Smiling_only  \\\n",
       "0       000001.jpg                0                         0             0   \n",
       "1       000002.jpg                0                         0             0   \n",
       "2       000003.jpg                0                         0             0   \n",
       "3       000004.jpg                1                         0             0   \n",
       "4       000005.jpg                1                         0             0   \n",
       "...            ...              ...                       ...           ...   \n",
       "202594  202595.jpg                1                         0             0   \n",
       "202595  202596.jpg                0                         0             0   \n",
       "202596  202597.jpg                0                         0             0   \n",
       "202597  202598.jpg                0                         0             0   \n",
       "202598  202599.jpg                1                         0             0   \n",
       "\n",
       "        Attractive_Mouth_Slightly_Open  Attractive_Smiling  \\\n",
       "0                                    0                   0   \n",
       "1                                    0                   0   \n",
       "2                                    0                   0   \n",
       "3                                    0                   0   \n",
       "4                                    0                   0   \n",
       "...                                ...                 ...   \n",
       "202594                               0                   0   \n",
       "202595                               0                   0   \n",
       "202596                               0                   0   \n",
       "202597                               0                   1   \n",
       "202598                               0                   0   \n",
       "\n",
       "        Mouth_Slightly_Open_Smiling  Attractive_Mouth_Slightly_Open_Smiling  \\\n",
       "0                                 0                                       1   \n",
       "1                                 1                                       0   \n",
       "2                                 0                                       0   \n",
       "3                                 0                                       0   \n",
       "4                                 0                                       0   \n",
       "...                             ...                                     ...   \n",
       "202594                            0                                       0   \n",
       "202595                            1                                       0   \n",
       "202596                            1                                       0   \n",
       "202597                            0                                       0   \n",
       "202598                            0                                       0   \n",
       "\n",
       "        None  \n",
       "0          0  \n",
       "1          0  \n",
       "2          1  \n",
       "3          0  \n",
       "4          0  \n",
       "...      ...  \n",
       "202594     0  \n",
       "202595     0  \n",
       "202596     0  \n",
       "202597     0  \n",
       "202598     0  \n",
       "\n",
       "[202599 rows x 9 columns]"
      ]
     },
     "execution_count": 50,
     "metadata": {},
     "output_type": "execute_result"
    }
   ],
   "source": [
    "dataframe_all = pd.read_csv('reduced_attr.csv')\n",
    "\n",
    "column_names = [\n",
    "    'img_name',\n",
    "    'Attractive_only',\n",
    "    'Mouth_Slightly_Open_only',\n",
    "    'Smiling_only',\n",
    "    'Attractive_Mouth_Slightly_Open',\n",
    "    'Attractive_Smiling',\n",
    "    'Mouth_Slightly_Open_Smiling',\n",
    "    'Attractive_Mouth_Slightly_Open_Smiling',\n",
    "    'None'\n",
    "]\n",
    "\n",
    "dataframe_all = dataframe_all[column_names]\n",
    "dataframe_all"
   ]
  },
  {
   "cell_type": "code",
   "execution_count": 51,
   "id": "8a9b7d6c",
   "metadata": {},
   "outputs": [],
   "source": [
    "files = glob.glob(\"./data/celeba_smaller/img_align_celeba/*.jpg\")\n",
    "file_list_smaller  = []\n",
    "\n",
    "for file in files:\n",
    "    loc = file.rfind('/')\n",
    "    file_list_smaller.append(file[loc+1:])"
   ]
  },
  {
   "cell_type": "code",
   "execution_count": 52,
   "id": "bd9366f9",
   "metadata": {},
   "outputs": [],
   "source": [
    "dataframe_smaller = dataframe_all[dataframe_all['img_name'].isin(file_list_smaller)]"
   ]
  },
  {
   "cell_type": "code",
   "execution_count": 53,
   "id": "54463345",
   "metadata": {},
   "outputs": [],
   "source": [
    "dataframe_smaller.to_csv(\"data/celeba_smaller/reduced_attr.csv\")"
   ]
  },
  {
   "cell_type": "code",
   "execution_count": null,
   "id": "024d32ac",
   "metadata": {},
   "outputs": [],
   "source": []
  }
 ],
 "metadata": {
  "kernelspec": {
   "display_name": "Python 3 (ipykernel)",
   "language": "python",
   "name": "python3"
  },
  "language_info": {
   "codemirror_mode": {
    "name": "ipython",
    "version": 3
   },
   "file_extension": ".py",
   "mimetype": "text/x-python",
   "name": "python",
   "nbconvert_exporter": "python",
   "pygments_lexer": "ipython3",
   "version": "3.9.12"
  }
 },
 "nbformat": 4,
 "nbformat_minor": 5
}
