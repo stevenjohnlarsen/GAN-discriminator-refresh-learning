{
 "cells": [
  {
   "cell_type": "code",
   "execution_count": 37,
   "id": "8d1e8337",
   "metadata": {},
   "outputs": [],
   "source": [
    "original_path = \"./data/celeba/img_align_celeba/\"\n",
    "new_path = \"data/celeba_small/img_align_celeba/\"\n",
    "newer_path = \"data/celeba_smaller/img_align_celeba/\""
   ]
  },
  {
   "cell_type": "code",
   "execution_count": 3,
   "id": "dce736aa",
   "metadata": {},
   "outputs": [],
   "source": [
    "import shutil, os\n",
    "import random"
   ]
  },
  {
   "cell_type": "code",
   "execution_count": 28,
   "id": "69671af8",
   "metadata": {},
   "outputs": [
    {
     "data": {
      "text/plain": [
       "0"
      ]
     },
     "execution_count": 28,
     "metadata": {},
     "output_type": "execute_result"
    }
   ],
   "source": [
    "random.choice([0,1,2,3])"
   ]
  },
  {
   "cell_type": "code",
   "execution_count": 15,
   "id": "6525515b",
   "metadata": {},
   "outputs": [],
   "source": [
    "import glob"
   ]
  },
  {
   "cell_type": "code",
   "execution_count": 18,
   "id": "8ece628b",
   "metadata": {},
   "outputs": [],
   "source": [
    "files = glob.glob(\"./data/celeba/img_align_celeba/*.jpg\")"
   ]
  },
  {
   "cell_type": "code",
   "execution_count": 33,
   "id": "121b6324",
   "metadata": {},
   "outputs": [
    {
     "data": {
      "text/plain": [
       "50444"
      ]
     },
     "execution_count": 33,
     "metadata": {},
     "output_type": "execute_result"
    }
   ],
   "source": [
    "less_files = []\n",
    "for file in files:\n",
    "    if random.choice([0,1,2,3]) == 0:\n",
    "        less_files.append(file)\n",
    "len(less_files)"
   ]
  },
  {
   "cell_type": "code",
   "execution_count": 34,
   "id": "2846e470",
   "metadata": {},
   "outputs": [],
   "source": [
    "for file in less_files:\n",
    "    shutil.copy(file, new_path)"
   ]
  },
  {
   "cell_type": "markdown",
   "id": "2e5f2547",
   "metadata": {},
   "source": [
    "_______________"
   ]
  },
  {
   "cell_type": "code",
   "execution_count": 35,
   "id": "8aaf73bb",
   "metadata": {},
   "outputs": [
    {
     "data": {
      "text/plain": [
       "25272"
      ]
     },
     "execution_count": 35,
     "metadata": {},
     "output_type": "execute_result"
    }
   ],
   "source": [
    "less_files = []\n",
    "for file in files:\n",
    "    if random.choice([0,1,2,3,4,5,6,7]) == 0:\n",
    "        less_files.append(file)\n",
    "len(less_files)"
   ]
  },
  {
   "cell_type": "code",
   "execution_count": 38,
   "id": "c1059f51",
   "metadata": {},
   "outputs": [],
   "source": [
    "for file in less_files:\n",
    "    shutil.copy(file, newer_path)"
   ]
  },
  {
   "cell_type": "code",
   "execution_count": null,
   "id": "8a9b7d6c",
   "metadata": {},
   "outputs": [],
   "source": []
  }
 ],
 "metadata": {
  "kernelspec": {
   "display_name": "Python 3 (ipykernel)",
   "language": "python",
   "name": "python3"
  },
  "language_info": {
   "codemirror_mode": {
    "name": "ipython",
    "version": 3
   },
   "file_extension": ".py",
   "mimetype": "text/x-python",
   "name": "python",
   "nbconvert_exporter": "python",
   "pygments_lexer": "ipython3",
   "version": "3.7.13"
  }
 },
 "nbformat": 4,
 "nbformat_minor": 5
}
